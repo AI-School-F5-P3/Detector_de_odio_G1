{
 "cells": [
  {
   "cell_type": "code",
   "execution_count": 2,
   "metadata": {},
   "outputs": [],
   "source": [
    "import pandas as pd\n",
    "\n",
    "train_df = pd.read_csv('../data/processed/combined2_train_data_with_sentiment.csv')\n",
    "val_df = pd.read_csv('../data/processed/combined2_val_data_with_sentiment.csv')\n",
    "test_df = pd.read_csv('../data/processed/combined2_test_data_with_sentiment.csv')"
   ]
  },
  {
   "cell_type": "code",
   "execution_count": 3,
   "metadata": {},
   "outputs": [
    {
     "name": "stdout",
     "output_type": "stream",
     "text": [
      "sentiment_label\n",
      "NEGATIVE    1069\n",
      "POSITIVE     191\n",
      "Name: count, dtype: int64\n",
      "IsHatespeech\n",
      "True     743\n",
      "False    517\n",
      "Name: count, dtype: int64\n",
      "(1260, 15)\n",
      "sentiment_label\n",
      "NEGATIVE    670\n",
      "POSITIVE    190\n",
      "Name: count, dtype: int64\n",
      "IsHatespeech\n",
      "True     687\n",
      "False    173\n",
      "Name: count, dtype: int64\n",
      "(860, 15)\n",
      "sentiment_label\n",
      "NEGATIVE    674\n",
      "POSITIVE    186\n",
      "Name: count, dtype: int64\n",
      "IsHatespeech\n",
      "True     688\n",
      "False    172\n",
      "Name: count, dtype: int64\n",
      "(860, 15)\n"
     ]
    }
   ],
   "source": [
    "\n",
    "# Verificar la distribución de las etiquetas\n",
    "print(train_df['sentiment_label'].value_counts())\n",
    "print(train_df['IsHatespeech'].value_counts())\n",
    "print(train_df.shape)\n",
    "\n",
    "print(val_df['sentiment_label'].value_counts())\n",
    "print(val_df['IsHatespeech'].value_counts())\n",
    "print(val_df.shape)\n",
    "\n",
    "print(test_df['sentiment_label'].value_counts())\n",
    "print(test_df['IsHatespeech'].value_counts())\n",
    "print(test_df.shape)\n"
   ]
  },
  {
   "cell_type": "code",
   "execution_count": 4,
   "metadata": {},
   "outputs": [
    {
     "data": {
      "image/png": "[encoded data removed]",
      "text/plain": [
       "<Figure size 640x480 with 1 Axes>"
      ]
     },
     "metadata": {},
     "output_type": "display_data"
    }
   ],
   "source": [
    "import pandas as pd\n",
    "import matplotlib.pyplot as plt\n",
    "import seaborn as sns\n",
    "\n",
    "\n",
    "# Distribución de la variable objetivo\n",
    "sns.countplot(x='IsHatespeech', data=val_df)\n",
    "plt.title('Distribución de la Variable Objetivo')\n",
    "plt.show()"
   ]
  },
  {
   "cell_type": "code",
   "execution_count": 5,
   "metadata": {},
   "outputs": [
    {
     "name": "stdout",
     "output_type": "stream",
     "text": [
      "(860, 15)\n",
      "(860, 15)\n",
      "(1260, 15)\n",
      "IsHatespeech\n",
      "True     688\n",
      "False    172\n",
      "Name: count, dtype: int64\n"
     ]
    }
   ],
   "source": [
    "print(test_df.shape)\n",
    "print(val_df.shape)\n",
    "print(train_df.shape)\n",
    "print(test_df['IsHatespeech'].value_counts())"
   ]
  },
  {
   "cell_type": "code",
   "execution_count": 6,
   "metadata": {},
   "outputs": [
    {
     "name": "stdout",
     "output_type": "stream",
     "text": [
      "val_df_balanced:\n",
      "IsHatespeech\n",
      "False    172\n",
      "True     172\n",
      "Name: count, dtype: int64\n",
      "(344, 15)\n",
      "\n",
      "test_df_balanced:\n",
      "IsHatespeech\n",
      "False    172\n",
      "True     172\n",
      "Name: count, dtype: int64\n",
      "(344, 15)\n",
      "\n",
      "Archivos guardados en C:\\Users\\samir\\Detector de odio\\Detector_de_odio_G1\\data\\processed\n"
     ]
    }
   ],
   "source": [
    "import pandas as pd  \n",
    " \n",
    "# Función para equilibrar las clases  \n",
    "def balance_classes(df, target_class_count):  \n",
    "    # Filtrar las clases  \n",
    "    true_samples = df[df['IsHatespeech'] == True]  \n",
    "    false_samples = df[df['IsHatespeech'] == False]  \n",
    "    \n",
    "    # Reducir las muestras de la clase True  \n",
    "    true_samples_balanced = true_samples.sample(n=target_class_count, random_state=42)  \n",
    "    \n",
    "    # Mantener todas las muestras de la clase False  \n",
    "    false_samples_balanced = false_samples.sample(n=target_class_count, random_state=42)  \n",
    "    \n",
    "    # Combinar las muestras balanceadas  \n",
    "    balanced_df = pd.concat([true_samples_balanced, false_samples_balanced])  \n",
    "    \n",
    "    # Barajar el DataFrame final  \n",
    "    balanced_df = balanced_df.sample(frac=1, random_state=42).reset_index(drop=True)  \n",
    "    \n",
    "    return balanced_df  \n",
    "\n",
    "# Balancear val_df y test_df  \n",
    "val_df_balanced = balance_classes(val_df, 172)  \n",
    "test_df_balanced = balance_classes(test_df, 172)  \n",
    "\n",
    "# Verificar el resultado  \n",
    "print(\"val_df_balanced:\")  \n",
    "print(val_df_balanced['IsHatespeech'].value_counts())  \n",
    "print(val_df_balanced.shape)  \n",
    "\n",
    "print(\"\\ntest_df_balanced:\")  \n",
    "print(test_df_balanced['IsHatespeech'].value_counts())  \n",
    "print(test_df_balanced.shape)  \n",
    "\n",
    "# Guardar DataFrames como CSV  \n",
    "output_directory = r\"C:\\Users\\samir\\Detector de odio\\Detector_de_odio_G1\\data\\processed\"  \n",
    "val_df_balanced.to_csv(f\"{output_directory}\\\\val_df_balanced.csv\", index=False)  \n",
    "test_df_balanced.to_csv(f\"{output_directory}\\\\test_df_balanced.csv\", index=False)  \n",
    "\n",
    "print(f\"\\nArchivos guardados en {output_directory}\")"
   ]
  },
  {
   "cell_type": "code",
   "execution_count": 7,
   "metadata": {},
   "outputs": [
    {
     "name": "stdout",
     "output_type": "stream",
     "text": [
      "Index(['semantic_tokens', 'IsHatespeech', 'IsToxic', 'IsAbusive', 'IsThreat',\n",
      "       'IsProvocative', 'IsObscene', 'IsRacist', 'IsNationalist', 'IsSexist',\n",
      "       'IsHomophobic', 'IsReligiousHate', 'IsRadicalism', 'sentiment_label',\n",
      "       'sentiment_score'],\n",
      "      dtype='object')\n",
      "<class 'pandas.core.frame.DataFrame'>\n",
      "RangeIndex: 1260 entries, 0 to 1259\n",
      "Data columns (total 15 columns):\n",
      " #   Column           Non-Null Count  Dtype  \n",
      "---  ------           --------------  -----  \n",
      " 0   semantic_tokens  1260 non-null   object \n",
      " 1   IsHatespeech     1260 non-null   bool   \n",
      " 2   IsToxic          660 non-null    object \n",
      " 3   IsAbusive        660 non-null    object \n",
      " 4   IsThreat         660 non-null    object \n",
      " 5   IsProvocative    660 non-null    object \n",
      " 6   IsObscene        660 non-null    object \n",
      " 7   IsRacist         660 non-null    object \n",
      " 8   IsNationalist    660 non-null    object \n",
      " 9   IsSexist         660 non-null    object \n",
      " 10  IsHomophobic     660 non-null    object \n",
      " 11  IsReligiousHate  660 non-null    object \n",
      " 12  IsRadicalism     660 non-null    object \n",
      " 13  sentiment_label  1260 non-null   object \n",
      " 14  sentiment_score  1260 non-null   float64\n",
      "dtypes: bool(1), float64(1), object(13)\n",
      "memory usage: 139.2+ KB\n",
      "None\n",
      "       sentiment_score\n",
      "count      1260.000000\n",
      "mean          0.956500\n",
      "std           0.070084\n",
      "min           0.509152\n",
      "25%           0.948475\n",
      "50%           0.975132\n",
      "75%           0.996393\n",
      "max           0.999852\n",
      "semantic_tokens      0\n",
      "IsHatespeech         0\n",
      "IsToxic            600\n",
      "IsAbusive          600\n",
      "IsThreat           600\n",
      "IsProvocative      600\n",
      "IsObscene          600\n",
      "IsRacist           600\n",
      "IsNationalist      600\n",
      "IsSexist           600\n",
      "IsHomophobic       600\n",
      "IsReligiousHate    600\n",
      "IsRadicalism       600\n",
      "sentiment_label      0\n",
      "sentiment_score      0\n",
      "dtype: int64\n"
     ]
    }
   ],
   "source": [
    "print(train_df.columns)\n",
    "print(train_df.info())\n",
    "print(train_df.describe())\n",
    "print(train_df.isnull().sum())"
   ]
  },
  {
   "cell_type": "code",
   "execution_count": 8,
   "metadata": {},
   "outputs": [
    {
     "name": "stdout",
     "output_type": "stream",
     "text": [
      "semantic_tokens    0\n",
      "IsHatespeech       0\n",
      "IsToxic            0\n",
      "IsAbusive          0\n",
      "IsThreat           0\n",
      "IsProvocative      0\n",
      "IsObscene          0\n",
      "IsRacist           0\n",
      "IsNationalist      0\n",
      "IsSexist           0\n",
      "IsHomophobic       0\n",
      "IsReligiousHate    0\n",
      "IsRadicalism       0\n",
      "sentiment_label    0\n",
      "sentiment_score    0\n",
      "dtype: int64\n"
     ]
    },
    {
     "name": "stderr",
     "output_type": "stream",
     "text": [
      "C:\\Users\\samir\\AppData\\Local\\Temp\\ipykernel_17456\\628830004.py:1: FutureWarning: Downcasting object dtype arrays on .fillna, .ffill, .bfill is deprecated and will change in a future version. Call result.infer_objects(copy=False) instead. To opt-in to the future behavior, set `pd.set_option('future.no_silent_downcasting', True)`\n",
      "  train_df1=train_df.fillna(False)\n",
      "C:\\Users\\samir\\AppData\\Local\\Temp\\ipykernel_17456\\628830004.py:2: FutureWarning: Downcasting object dtype arrays on .fillna, .ffill, .bfill is deprecated and will change in a future version. Call result.infer_objects(copy=False) instead. To opt-in to the future behavior, set `pd.set_option('future.no_silent_downcasting', True)`\n",
      "  val_df1=val_df.fillna(False)\n",
      "C:\\Users\\samir\\AppData\\Local\\Temp\\ipykernel_17456\\628830004.py:3: FutureWarning: Downcasting object dtype arrays on .fillna, .ffill, .bfill is deprecated and will change in a future version. Call result.infer_objects(copy=False) instead. To opt-in to the future behavior, set `pd.set_option('future.no_silent_downcasting', True)`\n",
      "  test_df1=test_df.fillna(False)\n"
     ]
    }
   ],
   "source": [
    "train_df1=train_df.fillna(False)\n",
    "val_df1=val_df.fillna(False)\n",
    "test_df1=test_df.fillna(False)\n",
    "print(train_df1.isnull().sum())\n",
    "train_df1.to_csv('../data/processed/train_data1.csv', index=False) \n",
    "val_df1.to_csv('../data/processed/val_data1.csv', index=False) \n",
    "test_df1.to_csv('../data/processed/test_data1.csv', index=False)\n",
    "\n",
    "\n"
   ]
  },
  {
   "cell_type": "code",
   "execution_count": 34,
   "metadata": {},
   "outputs": [
    {
     "name": "stdout",
     "output_type": "stream",
     "text": [
      "Filas problemáticas en 'processed_text': 12\n",
      "Filas problemáticas en 'cleaned_text': 15\n",
      "Filas restantes después de eliminar filas problemáticas: 1211\n"
     ]
    }
   ],
   "source": [
    "train_df = pd.read_csv('../data/processed/train_data1_processed.csv')\n",
    "val_df = pd.read_csv('../data/processed/val_data1_processed.csv')\n",
    "test_df = pd.read_csv('../data/processed/test_data1_processed.csv')\n",
    "\n",
    "train_df = train_df.dropna(subset=['processed_text'])\n",
    "val_df=val_df.dropna(subset=['processed_text'])\n",
    "test_df = test_df.dropna(subset=['processed_text'])\n",
    "\n",
    "\n",
    "# Contar filas donde 'processed_text' tiene palabras largas\n",
    "problematic_texts = train_df[train_df['processed_text'].str.contains(r'\\w{50,}', na=False)]\n",
    "print(f\"Filas problemáticas en 'processed_text': {len(problematic_texts)}\")\n",
    "\n",
    "# Contar filas donde 'cleaned_text' tiene palabras largas\n",
    "problematic_texts1 = train_df[train_df['cleaned_text'].str.contains(r'\\w{50,}', na=False)]\n",
    "print(f\"Filas problemáticas en 'cleaned_text': {len(problematic_texts1)}\")\n",
    "\n",
    "# Eliminar filas donde 'processed_text' tiene palabras largas\n",
    "train_df = train_df[~train_df['processed_text'].str.contains(r'\\w{50,}', na=False)]\n",
    "val_df = val_df[~val_df['processed_text'].str.contains(r'\\w{50,}', na=False)]\n",
    "test_df= test_df[~test_df['processed_text'].str.contains(r'\\w{50,}', na=False)]\n",
    "# Eliminar filas donde 'cleaned_text' tiene palabras largas\n",
    "train_df = train_df[~train_df['cleaned_text'].str.contains(r'\\w{50,}', na=False)]\n",
    "val_df= val_df[~val_df['cleaned_text'].str.contains(r'\\w{50,}', na=False)]\n",
    "test_df= test_df[~test_df['cleaned_text'].str.contains(r'\\w{50,}', na=False)]\n",
    "# Verificar el tamaño del DataFrame después de eliminar las filas\n",
    "print(f\"Filas restantes después de eliminar filas problemáticas: {len(train_df)}\")\n"
   ]
  },
  {
   "cell_type": "code",
   "execution_count": 35,
   "metadata": {},
   "outputs": [
    {
     "name": "stdout",
     "output_type": "stream",
     "text": [
      "Index(['semantic_tokens', 'IsHatespeech', 'IsToxic', 'IsAbusive', 'IsThreat',\n",
      "       'IsProvocative', 'IsObscene', 'IsRacist', 'IsNationalist', 'IsSexist',\n",
      "       'IsHomophobic', 'IsReligiousHate', 'IsRadicalism', 'sentiment_label',\n",
      "       'sentiment_score', 'cleaned_text', 'processed_text'],\n",
      "      dtype='object')\n",
      "semantic_tokens    0\n",
      "IsHatespeech       0\n",
      "IsToxic            0\n",
      "IsAbusive          0\n",
      "IsThreat           0\n",
      "IsProvocative      0\n",
      "IsObscene          0\n",
      "IsRacist           0\n",
      "IsNationalist      0\n",
      "IsSexist           0\n",
      "IsHomophobic       0\n",
      "IsReligiousHate    0\n",
      "IsRadicalism       0\n",
      "sentiment_label    0\n",
      "sentiment_score    0\n",
      "cleaned_text       0\n",
      "processed_text     0\n",
      "dtype: int64\n",
      "semantic_tokens    0\n",
      "IsHatespeech       0\n",
      "IsToxic            0\n",
      "IsAbusive          0\n",
      "IsThreat           0\n",
      "IsProvocative      0\n",
      "IsObscene          0\n",
      "IsRacist           0\n",
      "IsNationalist      0\n",
      "IsSexist           0\n",
      "IsHomophobic       0\n",
      "IsReligiousHate    0\n",
      "IsRadicalism       0\n",
      "sentiment_label    0\n",
      "sentiment_score    0\n",
      "cleaned_text       0\n",
      "processed_text     0\n",
      "dtype: int64\n",
      "semantic_tokens    0\n",
      "IsHatespeech       0\n",
      "IsToxic            0\n",
      "IsAbusive          0\n",
      "IsThreat           0\n",
      "IsProvocative      0\n",
      "IsObscene          0\n",
      "IsRacist           0\n",
      "IsNationalist      0\n",
      "IsSexist           0\n",
      "IsHomophobic       0\n",
      "IsReligiousHate    0\n",
      "IsRadicalism       0\n",
      "sentiment_label    0\n",
      "sentiment_score    0\n",
      "cleaned_text       0\n",
      "processed_text     0\n",
      "dtype: int64\n"
     ]
    }
   ],
   "source": [
    "\n",
    "print(train_df.columns)\n",
    "print(train_df.isnull().sum())\n",
    "print(val_df.isnull().sum())\n",
    "print(test_df.isnull().sum())"
   ]
  },
  {
   "cell_type": "code",
   "execution_count": 38,
   "metadata": {},
   "outputs": [
    {
     "name": "stdout",
     "output_type": "stream",
     "text": [
      "<class 'pandas.core.frame.DataFrame'>\n",
      "Index: 1211 entries, 0 to 1258\n",
      "Data columns (total 17 columns):\n",
      " #   Column           Non-Null Count  Dtype  \n",
      "---  ------           --------------  -----  \n",
      " 0   semantic_tokens  1211 non-null   object \n",
      " 1   IsHatespeech     1211 non-null   bool   \n",
      " 2   IsToxic          1211 non-null   bool   \n",
      " 3   IsAbusive        1211 non-null   bool   \n",
      " 4   IsThreat         1211 non-null   bool   \n",
      " 5   IsProvocative    1211 non-null   bool   \n",
      " 6   IsObscene        1211 non-null   bool   \n",
      " 7   IsRacist         1211 non-null   bool   \n",
      " 8   IsNationalist    1211 non-null   bool   \n",
      " 9   IsSexist         1211 non-null   bool   \n",
      " 10  IsHomophobic     1211 non-null   bool   \n",
      " 11  IsReligiousHate  1211 non-null   bool   \n",
      " 12  IsRadicalism     1211 non-null   bool   \n",
      " 13  sentiment_label  1211 non-null   object \n",
      " 14  sentiment_score  1211 non-null   float64\n",
      " 15  cleaned_text     1211 non-null   object \n",
      " 16  processed_text   1211 non-null   object \n",
      "dtypes: bool(12), float64(1), object(4)\n",
      "memory usage: 71.0+ KB\n",
      "None\n",
      "       sentiment_score\n",
      "count      1211.000000\n",
      "mean          0.956556\n",
      "std           0.070148\n",
      "min           0.509152\n",
      "25%           0.948489\n",
      "50%           0.974969\n",
      "75%           0.996234\n",
      "max           0.999852\n",
      "<class 'pandas.core.frame.DataFrame'>\n",
      "Index: 822 entries, 0 to 858\n",
      "Data columns (total 17 columns):\n",
      " #   Column           Non-Null Count  Dtype  \n",
      "---  ------           --------------  -----  \n",
      " 0   semantic_tokens  822 non-null    object \n",
      " 1   IsHatespeech     822 non-null    bool   \n",
      " 2   IsToxic          822 non-null    bool   \n",
      " 3   IsAbusive        822 non-null    bool   \n",
      " 4   IsThreat         822 non-null    bool   \n",
      " 5   IsProvocative    822 non-null    bool   \n",
      " 6   IsObscene        822 non-null    bool   \n",
      " 7   IsRacist         822 non-null    bool   \n",
      " 8   IsNationalist    822 non-null    bool   \n",
      " 9   IsSexist         822 non-null    bool   \n",
      " 10  IsHomophobic     822 non-null    bool   \n",
      " 11  IsReligiousHate  822 non-null    bool   \n",
      " 12  IsRadicalism     822 non-null    bool   \n",
      " 13  sentiment_label  822 non-null    object \n",
      " 14  sentiment_score  822 non-null    float64\n",
      " 15  cleaned_text     822 non-null    object \n",
      " 16  processed_text   822 non-null    object \n",
      "dtypes: bool(12), float64(1), object(4)\n",
      "memory usage: 48.2+ KB\n",
      "None\n",
      "<class 'pandas.core.frame.DataFrame'>\n",
      "Index: 826 entries, 0 to 858\n",
      "Data columns (total 17 columns):\n",
      " #   Column           Non-Null Count  Dtype  \n",
      "---  ------           --------------  -----  \n",
      " 0   semantic_tokens  826 non-null    object \n",
      " 1   IsHatespeech     826 non-null    bool   \n",
      " 2   IsToxic          826 non-null    bool   \n",
      " 3   IsAbusive        826 non-null    bool   \n",
      " 4   IsThreat         826 non-null    bool   \n",
      " 5   IsProvocative    826 non-null    bool   \n",
      " 6   IsObscene        826 non-null    bool   \n",
      " 7   IsRacist         826 non-null    bool   \n",
      " 8   IsNationalist    826 non-null    bool   \n",
      " 9   IsSexist         826 non-null    bool   \n",
      " 10  IsHomophobic     826 non-null    bool   \n",
      " 11  IsReligiousHate  826 non-null    bool   \n",
      " 12  IsRadicalism     826 non-null    bool   \n",
      " 13  sentiment_label  826 non-null    object \n",
      " 14  sentiment_score  826 non-null    float64\n",
      " 15  cleaned_text     826 non-null    object \n",
      " 16  processed_text   826 non-null    object \n",
      "dtypes: bool(12), float64(1), object(4)\n",
      "memory usage: 48.4+ KB\n",
      "None\n"
     ]
    }
   ],
   "source": [
    "print(train_df.info())\n",
    "print(train_df.describe())\n",
    "print(val_df.info())\n",
    "print(test_df.info())"
   ]
  },
  {
   "cell_type": "code",
   "execution_count": 39,
   "metadata": {},
   "outputs": [],
   "source": [
    "train_df.to_csv('../data/processed/train_data1.csv', index=False) \n",
    "val_df.to_csv('../data/processed/val_data1.csv', index=False) \n",
    "test_df.to_csv('../data/processed/test_data1.csv', index=False)\n"
   ]
  },
  {
   "cell_type": "code",
   "execution_count": 40,
   "metadata": {},
   "outputs": [
    {
     "name": "stdout",
     "output_type": "stream",
     "text": [
      "                                     semantic_tokens  IsHatespeech  IsToxic  \\\n",
      "0  ['WHITE', 'FINISH', 'SENTENCE', 'WAKE', 'TRUTH...          True     True   \n",
      "1                                ['MUSLIM', 'BITCH']          True     True   \n",
      "2  ['WANT', 'SON', 'DEATH', 'VAIN', 'LET', 'BURN'...         False     True   \n",
      "3  ['TRUE', 'POLICE', 'ORIGINALLY', 'SAY', 'ROBBE...         False    False   \n",
      "4  ['POINT', 'THINK', 'COP', 'POINT', 'GUN', 'KNO...         False    False   \n",
      "\n",
      "   IsAbusive  IsThreat  IsProvocative  IsObscene  IsRacist  IsNationalist  \\\n",
      "0       True     False          False      False      True          False   \n",
      "1      False     False          False      False     False          False   \n",
      "2       True     False          False       True     False          False   \n",
      "3      False     False          False      False     False          False   \n",
      "4      False     False          False      False     False          False   \n",
      "\n",
      "   IsSexist  IsHomophobic  IsReligiousHate  IsRadicalism sentiment_label  \\\n",
      "0     False         False            False         False        NEGATIVE   \n",
      "1     False         False             True         False        NEGATIVE   \n",
      "2     False         False            False         False        NEGATIVE   \n",
      "3     False         False            False         False        NEGATIVE   \n",
      "4     False         False            False         False        NEGATIVE   \n",
      "\n",
      "   sentiment_score                                       cleaned_text  \\\n",
      "0         0.982016   WHITE MAN FINISH SENTENCE NEED WAKE TRUTH MURDER   \n",
      "1         0.982178                                       MUSLIM BITCH   \n",
      "2         0.960193  WANT SON DEATH VAIN LET BURN BITCH STUPID FUCK...   \n",
      "3         0.980302  TRUE POLICE ORIGINALLY SAY ROBBERY STOP CLAIM ...   \n",
      "4         0.971493        POINT THINK COP POINT GUN KNOW TELL PROVOKE   \n",
      "\n",
      "                                      processed_text  \n",
      "0            WHITE FINISH SENTENCE WAKE TRUTH MURDER  \n",
      "1                                       MUSLIM BITCH  \n",
      "2  WANT SON DEATH VAIN LET BURN BITCH STUPID FUCK...  \n",
      "3  TRUE POLICE ORIGINALLY SAY ROBBERY STOP CLAIM ...  \n",
      "4        POINT THINK COP POINT GUN KNOW TELL PROVOKE  \n"
     ]
    }
   ],
   "source": [
    "print(train_df.head(5))"
   ]
  }
 ],
 "metadata": {
  "kernelspec": {
   "display_name": "venv",
   "language": "python",
   "name": "python3"
  },
  "language_info": {
   "codemirror_mode": {
    "name": "ipython",
    "version": 3
   },
   "file_extension": ".py",
   "mimetype": "text/x-python",
   "name": "python",
   "nbconvert_exporter": "python",
   "pygments_lexer": "ipython3",
   "version": "3.12.7"
  }
 },
 "nbformat": 4,
 "nbformat_minor": 2
}
